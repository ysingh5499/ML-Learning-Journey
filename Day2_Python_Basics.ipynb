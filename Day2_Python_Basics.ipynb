{
 "cells": [
  {
   "cell_type": "code",
   "execution_count": 1,
   "id": "618537c4-2b3b-4f6f-9e6e-b84b875df67a",
   "metadata": {},
   "outputs": [
    {
     "name": "stdout",
     "output_type": "stream",
     "text": [
      "5\n"
     ]
    }
   ],
   "source": [
    "#Integer\n",
    "intExample = 5\n",
    "print(intExample)"
   ]
  },
  {
   "cell_type": "code",
   "execution_count": 2,
   "id": "aac45d1d-0907-4bc7-b3c7-9f9fd907b570",
   "metadata": {},
   "outputs": [
    {
     "data": {
      "text/plain": [
       "int"
      ]
     },
     "execution_count": 2,
     "metadata": {},
     "output_type": "execute_result"
    }
   ],
   "source": [
    "type(intExample)"
   ]
  },
  {
   "cell_type": "code",
   "execution_count": 3,
   "id": "5e06f15e-b116-4a00-9a0c-f68fc896536c",
   "metadata": {},
   "outputs": [
    {
     "data": {
      "text/plain": [
       "float"
      ]
     },
     "execution_count": 3,
     "metadata": {},
     "output_type": "execute_result"
    }
   ],
   "source": [
    "#Float\n",
    "floatExample = 5.2\n",
    "type(floatExample)\n"
   ]
  },
  {
   "cell_type": "code",
   "execution_count": 4,
   "id": "6331af11-da9e-4f9c-9d37-9af2d3de7cb3",
   "metadata": {},
   "outputs": [
    {
     "data": {
      "text/plain": [
       "str"
      ]
     },
     "execution_count": 4,
     "metadata": {},
     "output_type": "execute_result"
    }
   ],
   "source": [
    "#String\n",
    "stringExample = \"Aahan\"\n",
    "type(stringExample)"
   ]
  },
  {
   "cell_type": "code",
   "execution_count": 5,
   "id": "cb5d0de3-2606-460a-a278-71cdd9c9e042",
   "metadata": {},
   "outputs": [
    {
     "data": {
      "text/plain": [
       "bool"
      ]
     },
     "execution_count": 5,
     "metadata": {},
     "output_type": "execute_result"
    }
   ],
   "source": [
    "#Boolean\n",
    "boolExample = True\n",
    "type(boolExample)"
   ]
  },
  {
   "cell_type": "code",
   "execution_count": 6,
   "id": "215d9241-9fac-4d94-a172-c60bc3ec9f7a",
   "metadata": {},
   "outputs": [
    {
     "data": {
      "text/plain": [
       "list"
      ]
     },
     "execution_count": 6,
     "metadata": {},
     "output_type": "execute_result"
    }
   ],
   "source": [
    "#List\n",
    "listExample = [1,2,3]\n",
    "type(listExample)"
   ]
  },
  {
   "cell_type": "code",
   "execution_count": 7,
   "id": "121fcda3-d721-44d3-911f-6644d9f2fe8e",
   "metadata": {},
   "outputs": [
    {
     "data": {
      "text/plain": [
       "dict"
      ]
     },
     "execution_count": 7,
     "metadata": {},
     "output_type": "execute_result"
    }
   ],
   "source": [
    "#Dictionary\n",
    "\n",
    "dictExample = {\"a\" : \"apple\", \"b\": \"bat\", \"c\": \"cat\"}\n",
    "type(dictExample)"
   ]
  },
  {
   "cell_type": "code",
   "execution_count": 8,
   "id": "56125792-1342-48af-87db-cfc86eec7883",
   "metadata": {},
   "outputs": [
    {
     "name": "stdout",
     "output_type": "stream",
     "text": [
      "15\n"
     ]
    }
   ],
   "source": [
    "# Addition\n",
    "\n",
    "x = 5\n",
    "y = 10\n",
    "z = x + y\n",
    "print (z)\n"
   ]
  },
  {
   "cell_type": "code",
   "execution_count": 9,
   "id": "6509c61d-5e43-4c8e-bfd6-2b6f39938e4d",
   "metadata": {},
   "outputs": [
    {
     "name": "stdout",
     "output_type": "stream",
     "text": [
      "Aahan Sood\n"
     ]
    }
   ],
   "source": [
    "# String Concatenation\n",
    "\n",
    "x = \"Aahan\"\n",
    "y = \"Sood\"\n",
    "\n",
    "z = x + \" \" + y\n",
    "print(z)"
   ]
  },
  {
   "cell_type": "code",
   "execution_count": 10,
   "id": "273abdf8-2b8e-4651-b35a-02d00bcb1966",
   "metadata": {},
   "outputs": [
    {
     "name": "stdout",
     "output_type": "stream",
     "text": [
      "Singh\n"
     ]
    }
   ],
   "source": [
    "x = [\"Aahan\", \"Sood\", \"Gavya\", \"Sood\", \"Yuvraj\", \"Singh\"]\n",
    "print(x[5])\n"
   ]
  },
  {
   "cell_type": "code",
   "execution_count": 11,
   "id": "e21ed368-3e4f-4e20-9bc2-bcbd0b5e9e73",
   "metadata": {},
   "outputs": [
    {
     "name": "stdout",
     "output_type": "stream",
     "text": [
      "Perfect length\n",
      "['Aahan', 'Sood', 'Gavya', 'Sood', 'Yuvraj', 'Singh']\n"
     ]
    }
   ],
   "source": [
    "if(len(x) < 2):\n",
    "    print(x[1])\n",
    "elif(len(x) == 6):\n",
    "    print(\"Perfect length\")\n",
    "else:\n",
    "    print(\"Printing else statement\")\n",
    "\n",
    "print(x)"
   ]
  },
  {
   "cell_type": "code",
   "execution_count": 12,
   "id": "825a4dd6-8b5c-49f5-b45f-0a24e6072e2e",
   "metadata": {},
   "outputs": [
    {
     "name": "stdout",
     "output_type": "stream",
     "text": [
      "['Aahan', 'Sood', 'Gavya', 'Sood', 'Yuvraj', 'Singh']\n"
     ]
    }
   ],
   "source": [
    "i = 5\n",
    "while i < len(x):\n",
    "    print(x)\n",
    "    i+=1"
   ]
  },
  {
   "cell_type": "code",
   "execution_count": 32,
   "id": "69531ad4-2b42-47f2-9830-7bd95ca1b154",
   "metadata": {},
   "outputs": [
    {
     "name": "stdout",
     "output_type": "stream",
     "text": [
      "0  is even\n",
      "1 is odd\n",
      "2  is even\n",
      "3 is odd\n",
      "4  is even\n",
      "5 is odd\n",
      "6  is even\n",
      "7 is odd\n",
      "8  is even\n",
      "9 is odd\n",
      "10  is even\n"
     ]
    }
   ],
   "source": [
    "i=0\n",
    "while (i<=10):\n",
    "    if(i%2 == 0):\n",
    "        print(i , \" is even\")\n",
    "    else:\n",
    "        print(i, \"is odd\")\n",
    "    i+=1"
   ]
  },
  {
   "cell_type": "code",
   "execution_count": 34,
   "id": "24fb096f-41bf-4cb9-a6e9-25f8f6c40c4f",
   "metadata": {},
   "outputs": [],
   "source": [
    "def func(x):\n",
    "    x += 1\n",
    "    print(x)"
   ]
  },
  {
   "cell_type": "code",
   "execution_count": 35,
   "id": "f5f5b3b7-632c-4937-b408-7d95ff6322ce",
   "metadata": {},
   "outputs": [
    {
     "name": "stdout",
     "output_type": "stream",
     "text": [
      "6\n"
     ]
    }
   ],
   "source": [
    "func(5)"
   ]
  },
  {
   "cell_type": "code",
   "execution_count": 36,
   "id": "1d1e1a9a-120e-4473-9441-35d3bb5853c0",
   "metadata": {},
   "outputs": [
    {
     "name": "stdout",
     "output_type": "stream",
     "text": [
      "5 + 3 = 8\n",
      "Area of circle with radius 5: 78.54\n",
      "Is 2 prime? True\n",
      "Is 7 prime? True\n",
      "Is 10 prime? False\n",
      "Is 13 prime? True\n",
      "Is 25 prime? False\n",
      "Is 29 prime? True\n"
     ]
    }
   ],
   "source": [
    "import math\n",
    "\n",
    "def add_numbers(a, b):\n",
    "    \"\"\"\n",
    "    Add two numbers together and return the result.\n",
    "    \n",
    "    Parameters:\n",
    "    a (int/float): First number\n",
    "    b (int/float): Second number\n",
    "    \n",
    "    Returns:\n",
    "    int/float: Sum of the two numbers\n",
    "    \"\"\"\n",
    "    return a + b\n",
    "\n",
    "def calculate_area_circle(radius):\n",
    "    \"\"\"\n",
    "    Calculate the area of a circle given its radius.\n",
    "    \n",
    "    Parameters:\n",
    "    radius (float): The radius of the circle\n",
    "    \n",
    "    Returns:\n",
    "    float: The area of the circle\n",
    "    \"\"\"\n",
    "    if radius < 0:\n",
    "        raise ValueError(\"Radius cannot be negative\")\n",
    "    return math.pi * radius ** 2\n",
    "\n",
    "def is_prime(number):\n",
    "    \"\"\"\n",
    "    Check if a number is prime.\n",
    "    \n",
    "    Parameters:\n",
    "    number (int): The number to check\n",
    "    \n",
    "    Returns:\n",
    "    bool: True if the number is prime, False otherwise\n",
    "    \"\"\"\n",
    "    # Handle special cases\n",
    "    if number <= 1:\n",
    "        return False\n",
    "    if number <= 3:\n",
    "        return True\n",
    "    if number % 2 == 0 or number % 3 == 0:\n",
    "        return False\n",
    "    \n",
    "    # Check for factors up to the square root of the number\n",
    "    i = 5\n",
    "    while i * i <= number:\n",
    "        if number % i == 0 or number % (i + 2) == 0:\n",
    "            return False\n",
    "        i += 6\n",
    "    \n",
    "    return True\n",
    "\n",
    "# Example usage\n",
    "if __name__ == \"__main__\":\n",
    "    # Test add_numbers\n",
    "    print(f\"5 + 3 = {add_numbers(5, 3)}\")\n",
    "    \n",
    "    # Test calculate_area_circle\n",
    "    print(f\"Area of circle with radius 5: {calculate_area_circle(5):.2f}\")\n",
    "    \n",
    "    # Test is_prime\n",
    "    for num in [2, 7, 10, 13, 25, 29]:\n",
    "        print(f\"Is {num} prime? {is_prime(num)}\")"
   ]
  },
  {
   "cell_type": "code",
   "execution_count": 39,
   "id": "aa5803e8-68cb-4e3f-9a9a-c4ae1b63dd99",
   "metadata": {},
   "outputs": [
    {
     "data": {
      "text/plain": [
       "2.0"
      ]
     },
     "execution_count": 39,
     "metadata": {},
     "output_type": "execute_result"
    }
   ],
   "source": [
    "import math\n",
    "math.sqrt(4)"
   ]
  },
  {
   "cell_type": "code",
   "execution_count": 41,
   "id": "6e6deacd-a34e-4ddb-8607-808b309d9391",
   "metadata": {},
   "outputs": [
    {
     "data": {
      "text/plain": [
       "8.0"
      ]
     },
     "execution_count": 41,
     "metadata": {},
     "output_type": "execute_result"
    }
   ],
   "source": [
    "math.pow(2, 3)"
   ]
  },
  {
   "cell_type": "code",
   "execution_count": 43,
   "id": "5fde1575-3e78-46a2-b2d4-fcf315e671c4",
   "metadata": {},
   "outputs": [
    {
     "data": {
      "text/plain": [
       "120"
      ]
     },
     "execution_count": 43,
     "metadata": {},
     "output_type": "execute_result"
    }
   ],
   "source": [
    "math.factorial(5)"
   ]
  },
  {
   "cell_type": "code",
   "execution_count": 45,
   "id": "f7a90066-41fd-4483-8bf4-8e7e1894afd4",
   "metadata": {},
   "outputs": [
    {
     "data": {
      "text/plain": [
       "0.8939966636005579"
      ]
     },
     "execution_count": 45,
     "metadata": {},
     "output_type": "execute_result"
    }
   ],
   "source": [
    "math.sin(90)"
   ]
  },
  {
   "cell_type": "code",
   "execution_count": 46,
   "id": "f99cf102-e644-4edc-aff4-8f1b0a32d1ee",
   "metadata": {},
   "outputs": [
    {
     "data": {
      "text/plain": [
       "-0.4480736161291702"
      ]
     },
     "execution_count": 46,
     "metadata": {},
     "output_type": "execute_result"
    }
   ],
   "source": [
    "math.cos(90)"
   ]
  },
  {
   "cell_type": "code",
   "execution_count": 48,
   "id": "f5aa94ab-8559-4d93-a988-c5690d08bc26",
   "metadata": {},
   "outputs": [
    {
     "data": {
      "text/plain": [
       "4.499809670330265"
      ]
     },
     "execution_count": 48,
     "metadata": {},
     "output_type": "execute_result"
    }
   ],
   "source": [
    "math.log(90)\n"
   ]
  },
  {
   "cell_type": "code",
   "execution_count": 60,
   "id": "886a0eb0-b007-4888-aeef-a129557ce3a7",
   "metadata": {},
   "outputs": [],
   "source": [
    "def vector_add(x, y):\n",
    "    if (len(x) & len(y)) == 2:\n",
    "        newX = x[0] + y[0]\n",
    "        newY = x[1] + y[1]\n",
    "        newVector = [newX, newY]\n",
    "    elif (len(x) & len(y)) == 3:\n",
    "        newX = x[0] + y[0]\n",
    "        newY = x[1] + y[1]\n",
    "        newZ = x[2] + y[2]\n",
    "        newVector = [newX, newY, newZ]\n",
    "\n",
    "    print(newVector)"
   ]
  },
  {
   "cell_type": "code",
   "execution_count": 61,
   "id": "14500c55-5018-4092-8714-b0f376a40b3b",
   "metadata": {},
   "outputs": [
    {
     "name": "stdout",
     "output_type": "stream",
     "text": [
      "[5, 7, 9]\n"
     ]
    }
   ],
   "source": [
    "vector_add([1,2,3], [4,5,6])"
   ]
  },
  {
   "cell_type": "code",
   "execution_count": 62,
   "id": "13196de1-0a6b-4132-9ca6-6ead63a79252",
   "metadata": {},
   "outputs": [
    {
     "name": "stdout",
     "output_type": "stream",
     "text": [
      "[3, 3]\n"
     ]
    }
   ],
   "source": [
    "vector_add([1,1], [2,2])"
   ]
  },
  {
   "cell_type": "code",
   "execution_count": 63,
   "id": "40584beb-783e-4af1-bd1d-23ddc582966a",
   "metadata": {},
   "outputs": [
    {
     "name": "stdout",
     "output_type": "stream",
     "text": [
      "Magnitude of [3, 4] = 5.0\n",
      "Magnitude of [1, 2, 3] = 3.7417\n",
      "[3, 4] · [2, 1] = 10\n",
      "\n",
      "Using NumPy:\n",
      "Magnitude of [3, 4] = 5.0\n",
      "[3, 4] · [2, 1] = 10\n",
      "Error: Vectors must have the same dimension\n",
      "\n",
      "Dot product of perpendicular unit vectors: 0\n",
      "Dot product of parallel unit vectors: 1\n"
     ]
    }
   ],
   "source": [
    "import math\n",
    "import numpy as np\n",
    "\n",
    "def vector_magnitude(vector):\n",
    "    sum_of_squares = sum(component**2 for component in vector)\n",
    "    return math.sqrt(sum_of_squares)\n",
    "\n",
    "def dot_product(vector1, vector2):\n",
    "    if len(vector1) != len(vector2):\n",
    "        raise ValueError(\"Vectors must have the same dimension\")\n",
    "    \n",
    "    # Sum of products approach\n",
    "    return sum(v1 * v2 for v1, v2 in zip(vector1, vector2))\n",
    "\n",
    "\n",
    "if __name__ == \"__main__\":\n",
    "    # Test vectors\n",
    "    v = [3, 4]\n",
    "    w = [2, 1]\n",
    "    u = [1, 2, 3]\n",
    "    \n",
    "    # Test magnitude\n",
    "    print(f\"Magnitude of {v} = {vector_magnitude(v)}\")  # Should be 5.0\n",
    "    print(f\"Magnitude of {u} = {vector_magnitude(u):.4f}\")  # Should be 3.7417\n",
    "    \n",
    "    # Test dot product\n",
    "    print(f\"{v} · {w} = {dot_product(v, w)}\")  # Should be 10\n",
    "    \n",
    "    # Using NumPy for comparison\n",
    "    print(\"\\nUsing NumPy:\")\n",
    "    print(f\"Magnitude of {v} = {np.linalg.norm(v)}\")\n",
    "    print(f\"{v} · {w} = {np.dot(v, w)}\")\n",
    "    \n",
    "    # Example with error handling\n",
    "    try:\n",
    "        dot_product(v, u)\n",
    "    except ValueError as e:\n",
    "        print(f\"Error: {e}\")\n",
    "    \n",
    "    # Geometric interpretation example\n",
    "    v = [1, 0]  # Unit vector along x-axis\n",
    "    w = [0, 1]  # Unit vector along y-axis\n",
    "    print(f\"\\nDot product of perpendicular unit vectors: {dot_product(v, w)}\")  # Should be 0\n",
    "    \n",
    "    v = [1, 0]\n",
    "    w = [1, 0]\n",
    "    print(f\"Dot product of parallel unit vectors: {dot_product(v, w)}\")  # Should be 1"
   ]
  },
  {
   "cell_type": "code",
   "execution_count": null,
   "id": "b62a724f-650a-4deb-80ac-827f067397cf",
   "metadata": {},
   "outputs": [],
   "source": []
  }
 ],
 "metadata": {
  "kernelspec": {
   "display_name": "Python [conda env:base] *",
   "language": "python",
   "name": "conda-base-py"
  },
  "language_info": {
   "codemirror_mode": {
    "name": "ipython",
    "version": 3
   },
   "file_extension": ".py",
   "mimetype": "text/x-python",
   "name": "python",
   "nbconvert_exporter": "python",
   "pygments_lexer": "ipython3",
   "version": "3.13.5"
  }
 },
 "nbformat": 4,
 "nbformat_minor": 5
}
